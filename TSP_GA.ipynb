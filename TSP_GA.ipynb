{
  "nbformat": 4,
  "nbformat_minor": 0,
  "metadata": {
    "colab": {
      "provenance": [],
      "authorship_tag": "ABX9TyPPRKotDkqKzoiQUPcudXFv",
      "include_colab_link": true
    },
    "kernelspec": {
      "name": "python3",
      "display_name": "Python 3"
    },
    "language_info": {
      "name": "python"
    }
  },
  "cells": [
    {
      "cell_type": "markdown",
      "metadata": {
        "id": "view-in-github",
        "colab_type": "text"
      },
      "source": [
        "<a href=\"https://colab.research.google.com/github/samyuktha1206/legendary-octo-pancake/blob/master/TSP_GA.ipynb\" target=\"_parent\"><img src=\"https://colab.research.google.com/assets/colab-badge.svg\" alt=\"Open In Colab\"/></a>"
      ]
    },
    {
      "cell_type": "code",
      "execution_count": 399,
      "metadata": {
        "id": "pktGRjOkyhkp"
      },
      "outputs": [],
      "source": [
        "import numpy as np, random, operator, pandas as pd, matplotlib.pyplot as plt, csv, os\n",
        "os.getcwd\n",
        "data=[[1,38.24,20.42],[2,39.57,26.15],[3,40.56,25.32],[4,36.26,23.12],[5,33.48,10.54],[6,37.56,12.19],[7,38.42,13.11],[8,37.52,20.44],[9,41.23,9.1],[10,41.17,13.05],[11,36.08,-5.21],[12,38.47,15.13],[13,38.15,15.35],[14,37.51,15.17],[15,35.49,14.32],[16,39.36,19.56],[17,38.09,24.36],[18,36.09,23],[19,40.44,13.57],[20,40.33,14.15],[21,40.37,14.23],[22,37.57,22.56]]\n",
        "df_cities=pd.DataFrame(data,columns=['Cityid','X','Y'])"
      ]
    },
    {
      "cell_type": "code",
      "source": [
        "#Distance between 2 cities ------------------------------------------------------------ works\n",
        "def distance(x1,y1,x2,y2):\n",
        "    return np.sqrt((x2-x1)**2+(y2-y1)**2)"
      ],
      "metadata": {
        "id": "R0LJY0I63D3n"
      },
      "execution_count": 400,
      "outputs": []
    },
    {
      "cell_type": "code",
      "source": [
        "#create chromosomes -------------------------------------------------------------------- works\n",
        "def create_route(Cities):\n",
        "    chromosome=np.random.permutation(df_cities)\n",
        "    return chromosome"
      ],
      "metadata": {
        "id": "qQbGyfrn3IGN"
      },
      "execution_count": 401,
      "outputs": []
    },
    {
      "cell_type": "code",
      "source": [
        "#create population --------------------------------------------------------------------- works\n",
        "def initial_population(population_size,cities_list):\n",
        "    population=[]\n",
        "    for i in range(0,population_size):\n",
        "        population.append(create_route(cities_list))\n",
        "    return population"
      ],
      "metadata": {
        "id": "DZj0UVVv3mqJ"
      },
      "execution_count": 402,
      "outputs": []
    },
    {
      "cell_type": "code",
      "source": [
        "#Total path distance ------------------------------------------------------------------ works\n",
        "def path_distance(path):\n",
        "    total_distance=0\n",
        "    x1,y1=path[0,:][1],path[0,:][2]\n",
        "    for i in range(1,len(path)):\n",
        "        if i < len(path):\n",
        "                 x2,y2=path[i,:][1],path[i,:][2]\n",
        "        else:\n",
        "                x2,y2=path[0,:][1],path[0,:][2]\n",
        "        total_distance+=distance(x1,y1,x2,y2)\n",
        "        x1,y1=x2,y2\n",
        "    return total_distance"
      ],
      "metadata": {
        "id": "RQCOaq2_3iJo"
      },
      "execution_count": 403,
      "outputs": []
    },
    {
      "cell_type": "code",
      "source": [
        "#define rank to come up with mating pool\n",
        "def rank(any_pop):\n",
        "    fitnessranks = {}\n",
        "    for i in range(0,len(any_pop)):\n",
        "        fitnessranks[i]=(path_distance(any_pop[i]))\n",
        "    return sorted(fitnessranks.items(), key = operator.itemgetter(1))\n",
        "\n",
        "def Population_Ranked(fitnessranks):\n",
        "  ranked_population=pd.DataFrame(np.array(fitnessranks), columns=[\"Population_Index\",\"Distance\"])\n",
        "  ranked_population['Population_Index']=ranked_population['Population_Index'].astype(int)\n",
        "  population_fitness = sum(ranked_population.iloc[:,1])\n",
        "  ranked_population['chromosome_probabilities'] = ranked_population.iloc[:,1]/population_fitness\n",
        "  ranked_population['cumulativeProb']=cumsum(ranked_population['chromosome_probabilities'])\n",
        "  return ranked_population"
      ],
      "metadata": {
        "id": "bScItRFF3QS0"
      },
      "execution_count": 404,
      "outputs": []
    },
    {
      "cell_type": "code",
      "source": [
        "from numpy.core.fromnumeric import cumsum\n",
        "  #Selection method 1: Roulette wheel\n",
        "def Population_Selection(ranked_population,Retain_elite):\n",
        "    population_fitness = sum(ranked_population.iloc[:,1])\n",
        "    select_population = []\n",
        "    choosen_population= []\n",
        "    for i in range(0, Retain_elite):\n",
        "      select_population.append(ranked_population.iat[i,0])\n",
        "    for i in range(0, len(ranked_population)-Retain_elite):\n",
        "      r = random.random()\n",
        "      for i in range(0, len(ranked_population)):\n",
        "        if r<=ranked_population.iat[i,3]:\n",
        "          select_population.append(ranked_population.iat[i,0])\n",
        "          break\n",
        "    for i in range(0,len(select_population)):\n",
        "      choosen_population.append(population[select_population[i]])\n",
        "    return choosen_population\n",
        "\"\"\"\n",
        "select_population = []\n",
        "choosen_population= []\n",
        "poped=ranked_population(rank(population))\n",
        "for i in range(0, 20):\n",
        "  select_population.append(poped.iat[i,0])\n",
        "for i in range(0, len(poped)-20):\n",
        " r = random.random()\n",
        " for i in range(0, len(poped)):\n",
        "  if r<=poped.iat[i,3]:\n",
        "    select_population.append(poped.iat[i,0])\n",
        "    break\n",
        "len(select_population)\n",
        "\"\"\""
      ],
      "metadata": {
        "colab": {
          "base_uri": "https://localhost:8080/",
          "height": 53
        },
        "id": "SMlrAcq0BYvn",
        "outputId": "5e88828a-0d49-435e-9a77-3dc403c313b6"
      },
      "execution_count": 405,
      "outputs": [
        {
          "output_type": "execute_result",
          "data": {
            "text/plain": [
              "'\\nselect_population = []\\nchoosen_population= []\\npoped=ranked_population(rank(population))\\nfor i in range(0, 20):\\n  select_population.append(poped.iat[i,0])\\nfor i in range(0, len(poped)-20):\\n r = random.random()\\n for i in range(0, len(poped)):\\n  if r<=poped.iat[i,3]:\\n    select_population.append(poped.iat[i,0])\\n    break\\nlen(select_population)\\n'"
            ],
            "application/vnd.google.colaboratory.intrinsic+json": {
              "type": "string"
            }
          },
          "metadata": {},
          "execution_count": 405
        }
      ]
    },
    {
      "cell_type": "code",
      "source": [
        "\"\"\"\n",
        "from numpy.lib.shape_base import split\n",
        "def breed(population_1, population_2):\n",
        "  crossbreed = []\n",
        "  crossover1 = []\n",
        "  crossover2 = []\n",
        "  crossover2a=[]\n",
        "  crossover2b=[]\n",
        "  crossover_point=[]\n",
        "  for i in (0,1):\n",
        "    crossover_point.append(int(random.random()*len(population_1[:,0])))\n",
        "  crossover_point=sorted(crossover_point)\n",
        "  for i in range(crossover_point[0],crossover_point[1]):\n",
        "      crossover1.append(population_1[i,:][0])\n",
        "  crossover2 = [item for item in population_2[:,0] if item not in crossover1]\n",
        "  if crossover_point[0]==0:\n",
        "      crossbreed=crossover1+crossover2\n",
        "  else:\n",
        "      for i in range(0,crossover_point[0]):\n",
        "        crossover2a.append(crossover2[i])\n",
        "      for i in range(crossover_point[0],len(crossover2)):\n",
        "        crossover2b.append(crossover2[i])\n",
        "      crossbreed=crossover2a+crossover1+crossover2b\n",
        "  return crossbreed\n",
        "\"\"\"\n"
      ],
      "metadata": {
        "colab": {
          "base_uri": "https://localhost:8080/",
          "height": 105
        },
        "id": "8Eb3OLUrE3g7",
        "outputId": "2b0aff09-19e5-4634-9fa4-40ead3db4122"
      },
      "execution_count": 406,
      "outputs": [
        {
          "output_type": "execute_result",
          "data": {
            "text/plain": [
              "'\\nfrom numpy.lib.shape_base import split\\ndef breed(population_1, population_2):\\n  crossbreed = []\\n  crossover1 = []\\n  crossover2 = []\\n  crossover2a=[]\\n  crossover2b=[]\\n  crossover_point=[]\\n  for i in (0,1):\\n    crossover_point.append(int(random.random()*len(population_1[:,0])))\\n  crossover_point=sorted(crossover_point)\\n  for i in range(crossover_point[0],crossover_point[1]):\\n      crossover1.append(population_1[i,:][0])\\n  crossover2 = [item for item in population_2[:,0] if item not in crossover1]\\n  if crossover_point[0]==0:\\n      crossbreed=crossover1+crossover2\\n  else:\\n      for i in range(0,crossover_point[0]):\\n        crossover2a.append(crossover2[i])\\n      for i in range(crossover_point[0],len(crossover2)):\\n        crossover2b.append(crossover2[i])\\n      crossbreed=crossover2a+crossover1+crossover2b\\n  return crossbreed\\n'"
            ],
            "application/vnd.google.colaboratory.intrinsic+json": {
              "type": "string"
            }
          },
          "metadata": {},
          "execution_count": 406
        }
      ]
    },
    {
      "cell_type": "code",
      "source": [
        "from tables.table import Column\n",
        "from numpy.lib.shape_base import split\n",
        "def breed(population_1, population_2):\n",
        "  crossbreed = []\n",
        "  crossover1 = []\n",
        "  crossover2 = []\n",
        "  crossover2a=[]\n",
        "  crossover2b=[]\n",
        "  crossover_point=[]\n",
        "  for i in (0,1):\n",
        "    crossover_point.append(int(random.random()*len(population_1[:,0])))\n",
        "  crossover_point=sorted(crossover_point)\n",
        "  for i in range(crossover_point[0],crossover_point[1]):\n",
        "      crossover1.append(population_1[i,:][0])\n",
        "  crossover2 = [item for item in population_2[:,0] if item not in crossover1]\n",
        "  if crossover_point[0]==0:\n",
        "      crossbreed=crossover1+crossover2\n",
        "  else:\n",
        "      for i in range(0,crossover_point[0]):\n",
        "        crossover2a.append(crossover2[i])\n",
        "      for i in range(crossover_point[0],len(crossover2)):\n",
        "        crossover2b.append(crossover2[i])\n",
        "      crossbreed=crossover2a+crossover1+crossover2b\n",
        "  crossbreed=np.array(crossbreed)\n",
        "  crossbreed=np.asarray(crossbreed,dtype='int')\n",
        "  offspring=[]\n",
        "  for i in (crossbreed-1):\n",
        "    offspring.append(df_cities.iloc[i])\n",
        "  offspring=np.array(offspring)\n",
        "  return offspring"
      ],
      "metadata": {
        "id": "VQh4aVJf5Rob"
      },
      "execution_count": 407,
      "outputs": []
    },
    {
      "cell_type": "code",
      "source": [
        "def CrossOverPopulation(choosenPopulation, Retain_elite):\n",
        "    CrossOver_population = []\n",
        "\n",
        "    pool = random.sample(choosenPopulation, len(choosenPopulation))\n",
        "\n",
        "    for i in range(0,Retain_elite):\n",
        "        CrossOver_population.append(choosenPopulation[i])\n",
        "    \n",
        "    for i in range(0, len(choosenPopulation)-Retain_elite):\n",
        "        child = breed(pool[i], pool[len(choosenPopulation)-i-1])\n",
        "        CrossOver_population.append(child)\n",
        "    return CrossOver_population"
      ],
      "metadata": {
        "id": "RweoZDLNqpGw"
      },
      "execution_count": 408,
      "outputs": []
    },
    {
      "cell_type": "code",
      "source": [
        "def mutate(chromosome, mutationRate):\n",
        "    for swapcitya in range(len(chromosome)):\n",
        "        if(random.random() < mutationRate):\n",
        "            swapcityb = int(random.random() * len(chromosome))\n",
        "            \n",
        "            citya = chromosome[swapcitya]\n",
        "            cityb = chromosome[swapcityb]\n",
        "            \n",
        "            chromosome[swapcitya] = citya\n",
        "            chromosome[swapcityb] = cityb\n",
        "    return chromosome"
      ],
      "metadata": {
        "id": "R3VTBn8aumiS"
      },
      "execution_count": 409,
      "outputs": []
    },
    {
      "cell_type": "code",
      "source": [
        "def mutatePopulation(population, mutationRate):\n",
        "    mutatedPopulation = []\n",
        "    \n",
        "    for ind in range(0, len(population)):\n",
        "        mutatedInd = mutate(population[ind], mutationRate)\n",
        "        mutatedPopulation.append(mutatedInd)\n",
        "    return mutatedPopulation"
      ],
      "metadata": {
        "id": "nKb5YJVTvqJe"
      },
      "execution_count": 410,
      "outputs": []
    },
    {
      "cell_type": "code",
      "source": [
        "def nextGeneration(currentGen, Retain_elite, mutationRate):\n",
        "    Rankedpopulation = Population_Ranked(rank(currentGen))\n",
        "    population_for_breeding = Population_Selection(Rankedpopulation,Retain_elite)\n",
        "    Offspring_population = CrossOverPopulation(population_for_breeding, Retain_elite)\n",
        "    nextGeneration = mutatePopulation(Offspring_population, mutationRate)\n",
        "    return nextGeneration"
      ],
      "metadata": {
        "id": "1I2oLfJpwLcv"
      },
      "execution_count": 411,
      "outputs": []
    },
    {
      "cell_type": "code",
      "source": [
        "def GA(citylist, population_size, Retain_elite, mutationRate, generations):\n",
        "    population = initial_population(population_size,citylist)\n",
        "    print(\"Initial distance: \" + str(Population_Ranked(rank(population)).iat[0,1]))\n",
        "    \n",
        "    for i in range(0, generations):\n",
        "        pop = nextGeneration(population, Retain_elite, mutationRate)\n",
        "    \n",
        "    print(\"Final distance: \" + str(Population_Ranked(rank(pop)).iat[0,1]))\n",
        "    bestRouteIndex = rank(pop)[0][0]\n",
        "    bestRoute = pop[bestRouteIndex]\n",
        "    return bestRoute"
      ],
      "metadata": {
        "id": "3_OweXAFxbtJ"
      },
      "execution_count": 412,
      "outputs": []
    },
    {
      "cell_type": "code",
      "source": [
        "population = initial_population(150,df_cities)\n",
        "len(Population_Ranked(rank(population)))\n",
        "pop=nextGeneration(population, 20, 0.02)\n",
        "Population_Ranked(rank(pop))"
      ],
      "metadata": {
        "id": "4IaOGLBBeWH4"
      },
      "execution_count": null,
      "outputs": []
    },
    {
      "cell_type": "code",
      "source": [
        "GA(df_cities, population_size=150, Retain_elite=20, mutationRate=0.02, generations=500)\n"
      ],
      "metadata": {
        "colab": {
          "base_uri": "https://localhost:8080/"
        },
        "id": "EP0Dr9Jb0NY0",
        "outputId": "da3b3a58-c810-431f-c069-ede96d1468a7"
      },
      "execution_count": 414,
      "outputs": [
        {
          "output_type": "stream",
          "name": "stdout",
          "text": [
            "Initial distance: 100.47580554671121\n",
            "Final distance: 124.95961885379657\n"
          ]
        },
        {
          "output_type": "execute_result",
          "data": {
            "text/plain": [
              "array([[ 4.  , 36.26, 23.12],\n",
              "       [18.  , 36.09, 23.  ],\n",
              "       [11.  , 36.08, -5.21],\n",
              "       [16.  , 39.36, 19.56],\n",
              "       [22.  , 37.57, 22.56],\n",
              "       [ 3.  , 40.56, 25.32],\n",
              "       [17.  , 38.09, 24.36],\n",
              "       [ 1.  , 38.24, 20.42],\n",
              "       [ 8.  , 37.52, 20.44],\n",
              "       [15.  , 35.49, 14.32],\n",
              "       [13.  , 38.15, 15.35],\n",
              "       [ 7.  , 38.42, 13.11],\n",
              "       [20.  , 40.33, 14.15],\n",
              "       [21.  , 40.37, 14.23],\n",
              "       [10.  , 41.17, 13.05],\n",
              "       [19.  , 40.44, 13.57],\n",
              "       [ 5.  , 33.48, 10.54],\n",
              "       [12.  , 38.47, 15.13],\n",
              "       [ 6.  , 37.56, 12.19],\n",
              "       [ 9.  , 41.23,  9.1 ],\n",
              "       [14.  , 37.51, 15.17],\n",
              "       [ 2.  , 39.57, 26.15]])"
            ]
          },
          "metadata": {},
          "execution_count": 414
        }
      ]
    }
  ]
}